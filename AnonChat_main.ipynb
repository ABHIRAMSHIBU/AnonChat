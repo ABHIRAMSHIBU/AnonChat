{
 "cells": [
  {
   "cell_type": "code",
   "execution_count": 1,
   "id": "95d668a9",
   "metadata": {},
   "outputs": [],
   "source": [
    "from threading import Thread\n",
    "from time import sleep\n",
    "import socket\n",
    "import pickle\n",
    "from Crypto.PublicKey import RSA\n",
    "from Crypto import Random\n",
    "from Crypto.Cipher import AES\n",
    "from Crypto.Signature.pkcs1_15 import PKCS115_SigScheme\n",
    "from Crypto.Cipher import PKCS1_v1_5 as Cipher_PKCS1_v1_5\n",
    "from Crypto.Hash import SHA256\n",
    "\n",
    "import os\n",
    "import hashlib\n",
    "\n",
    "HOST = \"192.168.43.105\"  # Standard loopback interface address (localhost)\n",
    "PORT = 9999  # Port to listen on (non-privileged ports are > 1023)"
   ]
  },
  {
   "cell_type": "code",
   "execution_count": 2,
   "id": "15277a51",
   "metadata": {},
   "outputs": [],
   "source": [
    "def generate_RSA_key():\n",
    "    keys = RSA.generate(2048)\n",
    "    pub  = RSA.import_key(keys.public_key().export_key('DER'))\n",
    "    prv  = RSA.import_key(keys.export_key('DER'))\n",
    "    return prv,pub\n",
    "\n",
    "def load_RSA_key():\n",
    "    if(os.path.exists(\"userkey.pickle\")):\n",
    "        try:\n",
    "            f=open(\"userkey.pickle\",\"rb\")\n",
    "            prv,pub = pickle.load(f)\n",
    "            prv = RSA.import_key(prv)\n",
    "            pub = RSA.import_key(pub)\n",
    "            return prv,pub\n",
    "        except Exception as e:\n",
    "            print(e)\n",
    "            return None\n",
    "    else:\n",
    "        return None\n",
    "\n",
    "def save_RSA_key(prv,pub):\n",
    "    keyfile = open(\"userkey.pickle\",\"wb\")\n",
    "    pickle.dump([prv.export_key(),pub.export_key()],keyfile)\n",
    "    keyfile.close()\n",
    "    print(\"Write success\")\n",
    "    return True\n",
    "\n",
    "def encrypt(key, data):\n",
    "    enc_data = Cipher_PKCS1_v1_5.new(key).encrypt(data)\n",
    "    return enc_data\n",
    "\n",
    "def decrypt(key,enc_data):\n",
    "    '''\n",
    "    Params\n",
    "        key - Key for decryption of message\n",
    "        enc - Encrypted message\n",
    "    '''\n",
    "    data = Cipher_PKCS1_v1_5.new(key).decrypt(enc_data,None)\n",
    "    return data\n",
    "\n",
    "def sign(keypair,data):\n",
    "    digest = SHA256.new(data)\n",
    "    signer = PKCS115_SigScheme(keypair)\n",
    "    signature = signer.sign(digest)\n",
    "    return signature\n",
    "\n",
    "\n",
    "def verify(enc_message,signature,publickey):\n",
    "    '''\n",
    "    Params\n",
    "        enc_message - Encrypted Message to be verified.\n",
    "        signature - Signature of the message.\n",
    "        publickey - Public of the Private key used to create signature\n",
    "    '''\n",
    "    data,enc_og,pubkey = enc_message,signature,publickey\n",
    "    digest = SHA256.new(data)\n",
    "    verifier = PKCS115_SigScheme(publickey)\n",
    "    try:\n",
    "        verifier.verify(digest, signature)\n",
    "        return True\n",
    "    except:\n",
    "        return False\n",
    "\n",
    "def insertDB(dec_message,public_key,torurl):\n",
    "    global db\n",
    "    if(torurl not in db):\n",
    "        db[torurl]={\"messages\":[],\"pubkey\":public_key}\n",
    "    db[torurl][\"messages\"].append(dec_message)\n",
    "    \n",
    "def process_message(data):\n",
    "    # Format [torurl,enc_message,signature,public_key]\n",
    "    data = pickle.loads(data)\n",
    "    torurl,enc_message,signature,public_key = data\n",
    "    public_key = RSA.import_key(public_key)\n",
    "    if(verify(enc_message,signature,public_key)):\n",
    "        dec_message = decrypt(prv,enc_message)\n",
    "        insertDB(dec_message,public_key,torurl)\n",
    "        return True\n",
    "    else:\n",
    "        print(\"Verification Failure\")\n",
    "        return False\n",
    "# Python Server\n",
    "def receiver_function():\n",
    "    try:\n",
    "        s = socket.socket(socket.AF_INET, socket.SOCK_STREAM)\n",
    "        s.bind((\"0.0.0.0\", PORT))\n",
    "        s.listen()\n",
    "        while True:\n",
    "            conn, addr = s.accept()\n",
    "            with conn:\n",
    "                # TODO: Threading might give better performance\n",
    "                while True:\n",
    "                    # Assuming 1024 bytes as max message size\n",
    "                    data = conn.recv(1024)\n",
    "                    if not data:\n",
    "                        break\n",
    "                    process_message(data)\n",
    "    except KeyboardInterrupt:\n",
    "        print(\"Bye..\")\n",
    "        "
   ]
  },
  {
   "cell_type": "code",
   "execution_count": 3,
   "id": "8c1f933a",
   "metadata": {},
   "outputs": [],
   "source": [
    "db = {}\n",
    "keys = load_RSA_key()\n",
    "prv,pub = (None,None)\n",
    "if(keys==None):\n",
    "    print(\"Keys not avaiable, generating\")\n",
    "    prv,pub = generate_RSA_key()\n",
    "    print(\"Saving keys\")\n",
    "    save_RSA_key(prv,pub)\n",
    "else:\n",
    "    prv,pub = keys\n",
    "thread_rec = Thread(target=receiver_function)"
   ]
  },
  {
   "cell_type": "code",
   "execution_count": 4,
   "id": "a178ef31",
   "metadata": {},
   "outputs": [],
   "source": [
    "thread_rec.start()"
   ]
  },
  {
   "cell_type": "code",
   "execution_count": 11,
   "id": "01c64ff0",
   "metadata": {},
   "outputs": [],
   "source": [
    "def client_tester():\n",
    "    HOST = \"localhost\"\n",
    "    PORT = 9999\n",
    "    with socket.socket(socket.AF_INET, socket.SOCK_STREAM) as s:\n",
    "        s.connect((HOST, PORT))\n",
    "        keys = generate_RSA_key() # Priv,Pub\n",
    "        message = \"Hello MOON!\"\n",
    "        enc_message = encrypt(pub,message.encode())\n",
    "        signature = sign(keys[0],enc_message)\n",
    "        s.send(pickle.dumps([\"localhost\",enc_message,signature,keys[1].export_key()]))\n",
    "        s.close()"
   ]
  },
  {
   "cell_type": "code",
   "execution_count": 12,
   "id": "b71fd5d8",
   "metadata": {},
   "outputs": [],
   "source": [
    "client_tester()"
   ]
  },
  {
   "cell_type": "code",
   "execution_count": 13,
   "id": "8348ca92",
   "metadata": {},
   "outputs": [
    {
     "data": {
      "text/plain": [
       "{'localhost': {'messages': [b'Hello World!', b'Hello World!', b'Hello MOON!'],\n",
       "  'pubkey': RsaKey(n=20728589697939446218122343092697448964271927518695104649021930819086106982135777329442158491010227439835488420911159390780219053861158469952987695800527285122228443124293296165496459218704485015215369423064336756796737700566097113084191185893370635294377488379831330895358997571902935994681178736321847294678021826283951577500893751164435101399478428003188276308484278938849840262029637558459804800483980235064838114518187172065282929546199429812671433359542884653071731372149942054903810638286312828452745761593036279544211572081930381082512114917973143570027879441412444773163395810024652514659863966791051236895627, e=65537)}}"
      ]
     },
     "execution_count": 13,
     "metadata": {},
     "output_type": "execute_result"
    }
   ],
   "source": [
    "db"
   ]
  },
  {
   "cell_type": "code",
   "execution_count": null,
   "id": "6530b568",
   "metadata": {},
   "outputs": [],
   "source": []
  }
 ],
 "metadata": {
  "kernelspec": {
   "display_name": "Python 3 (ipykernel)",
   "language": "python",
   "name": "python3"
  },
  "language_info": {
   "codemirror_mode": {
    "name": "ipython",
    "version": 3
   },
   "file_extension": ".py",
   "mimetype": "text/x-python",
   "name": "python",
   "nbconvert_exporter": "python",
   "pygments_lexer": "ipython3",
   "version": "3.9.9"
  }
 },
 "nbformat": 4,
 "nbformat_minor": 5
}
