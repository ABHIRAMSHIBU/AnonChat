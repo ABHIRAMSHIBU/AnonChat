{
 "cells": [
  {
   "cell_type": "code",
   "execution_count": 1,
   "id": "96a30432",
   "metadata": {},
   "outputs": [],
   "source": [
    "from threading import Thread\n",
    "from time import sleep\n",
    "import socket\n",
    "import pickle\n",
    "from Crypto.PublicKey import RSA\n",
    "from Crypto import Random\n",
    "from Crypto.Cipher import AES\n",
    "from Crypto.Signature.pkcs1_15 import PKCS115_SigScheme\n",
    "from Crypto.Cipher import PKCS1_v1_5 as Cipher_PKCS1_v1_5\n",
    "from Crypto.Hash import SHA256\n",
    "from pprint import pprint\n",
    "\n",
    "import os\n",
    "import hashlib\n",
    "\n",
    "HOST = \"192.168.43.3\"  # Standard loopback interface address (localhost)\n",
    "PORT = 9999  # Port to listen on (non-privileged ports are > 1023)"
   ]
  },
  {
   "cell_type": "code",
   "execution_count": 2,
   "id": "81f0e54d",
   "metadata": {},
   "outputs": [],
   "source": [
    "def generate_RSA_key():\n",
    "    keys = RSA.generate(2048)\n",
    "    pub  = RSA.import_key(keys.public_key().export_key('DER'))\n",
    "    prv  = RSA.import_key(keys.export_key('DER'))\n",
    "    return prv,pub\n",
    "\n",
    "def load_RSA_key():\n",
    "    if(os.path.exists(\"userkey.pickle\")):\n",
    "        try:\n",
    "            f=open(\"userkey.pickle\",\"rb\")\n",
    "            prv,pub = pickle.load(f)\n",
    "            prv = RSA.import_key(prv)\n",
    "            pub = RSA.import_key(pub)\n",
    "            return prv,pub\n",
    "        except Exception as e:\n",
    "            print(e)\n",
    "            return None\n",
    "    else:\n",
    "        return None\n",
    "\n",
    "def save_RSA_key(prv,pub):\n",
    "    keyfile = open(\"userkey.pickle\",\"wb\")\n",
    "    pickle.dump([prv.export_key(),pub.export_key()],keyfile)\n",
    "    keyfile.close()\n",
    "    print(\"Write success\")\n",
    "    return True\n",
    "\n",
    "def encrypt(key, data):\n",
    "    enc_data = Cipher_PKCS1_v1_5.new(key).encrypt(data)\n",
    "    return enc_data\n",
    "\n",
    "def decrypt(key,enc_data):\n",
    "    '''\n",
    "    Params\n",
    "        key - Key for decryption of message\n",
    "        enc - Encrypted message\n",
    "    '''\n",
    "    data = Cipher_PKCS1_v1_5.new(key).decrypt(enc_data,None)\n",
    "    return data\n",
    "\n",
    "def sign(keypair,data):\n",
    "    digest = SHA256.new(data)\n",
    "    signer = PKCS115_SigScheme(keypair)\n",
    "    signature = signer.sign(digest)\n",
    "    return signature\n",
    "\n",
    "\n",
    "def verify(enc_message,signature,publickey):\n",
    "    '''\n",
    "    Params\n",
    "        enc_message - Encrypted Message to be verified.\n",
    "        signature - Signature of the message.\n",
    "        publickey - Public of the Private key used to create signature\n",
    "    '''\n",
    "    data,enc_og,pubkey = enc_message,signature,publickey\n",
    "    digest = SHA256.new(data)\n",
    "    verifier = PKCS115_SigScheme(publickey)\n",
    "    try:\n",
    "        verifier.verify(digest, signature)\n",
    "        return True\n",
    "    except:\n",
    "        print(\"Verify Fail\")\n",
    "        return True\n",
    "\n",
    "def insertDB(dec_message,public_key,torurl):\n",
    "    global db\n",
    "    if(torurl not in db):\n",
    "        db[torurl]={\"messages\":[],\"pubkey\":public_key}\n",
    "    db[torurl][\"messages\"].append(dec_message)\n",
    "    \n",
    "def process_message(data):\n",
    "    # Format [torurl,enc_message,signature,public_key]\n",
    "    data = pickle.loads(data)\n",
    "    print(data)\n",
    "    torurl,enc_message,signature,public_key = data\n",
    "    public_key = RSA.import_key(public_key)\n",
    "    if(verify(enc_message,signature,public_key)):\n",
    "        dec_message = decrypt(prv,enc_message)\n",
    "        print(dec_message)\n",
    "        insertDB(dec_message,public_key,torurl)\n",
    "        print(\"Done!\")\n",
    "        return True\n",
    "    else:\n",
    "        print(\"Verification Failure\")\n",
    "        return False\n",
    "\n",
    "# Python Server\n",
    "def receiver_function():\n",
    "    try:\n",
    "        s = socket.socket(socket.AF_INET, socket.SOCK_STREAM)\n",
    "        s.bind((\"0.0.0.0\", PORT))\n",
    "        s.listen()\n",
    "        while True:\n",
    "            conn, addr = s.accept()\n",
    "            with conn:\n",
    "                # TODO: Threading might give better performance\n",
    "                while True:\n",
    "                    # Assuming 1024 bytes as max message size\n",
    "                    data = conn.recv(1024)\n",
    "                    if not data:\n",
    "                        break\n",
    "                    process_message(data)\n",
    "    except KeyboardInterrupt:\n",
    "        print(\"Bye..\")\n",
    "    \n",
    "# Client code for the AnonChat server\n",
    "def send_message(pub,torurl,message):\n",
    "    remote_host = torurl # URL for reciver \n",
    "    PORT = 9999   # Port for AnonChat on reciever \n",
    "    with socket.socket(socket.AF_INET, socket.SOCK_STREAM) as s:\n",
    "        s.connect((remote_host, PORT))\n",
    "        enc_message = encrypt(pub,message.encode())\n",
    "        signature = sign(prv,enc_message)\n",
    "        s.send(pickle.dumps([HOST,enc_message,signature,pub.export_key()]))\n",
    "        s.close()"
   ]
  },
  {
   "cell_type": "code",
   "execution_count": 3,
   "id": "3be885f7",
   "metadata": {},
   "outputs": [],
   "source": [
    "db = {}\n",
    "keys = load_RSA_key()\n",
    "prv,pub = (None,None)\n",
    "if(keys==None):\n",
    "    print(\"Keys not avaiable, generating\")\n",
    "    prv,pub = generate_RSA_key()\n",
    "    print(\"Saving keys\")\n",
    "    save_RSA_key(prv,pub)\n",
    "else:\n",
    "    prv,pub = keys\n",
    "thread_rec = Thread(target=receiver_function)"
   ]
  },
  {
   "cell_type": "code",
   "execution_count": 4,
   "id": "54db6211",
   "metadata": {},
   "outputs": [],
   "source": [
    "thread_rec.start() # Start main reciver thread"
   ]
  },
  {
   "cell_type": "code",
   "execution_count": 5,
   "id": "1072a648",
   "metadata": {},
   "outputs": [],
   "source": [
    "def UI_Main():\n",
    "    chosen_person = None\n",
    "    while(True):\n",
    "        try:\n",
    "            inp = input(\">\").strip()\n",
    "            if(inp == \"$help\"):\n",
    "                print(\"Help Menu - Conrgatz you have discovered help menu\")\n",
    "                print(\"1) $menu for menu\")\n",
    "                print(\"2) $help for help\")\n",
    "                print(\"Type a message to chat\")\n",
    "            elif(inp == \"$menu\"):\n",
    "                print(\"1) Contact list\")\n",
    "                print(\"2) Messages\")\n",
    "                print(\"3) New Contact\")\n",
    "                print(\"4) Export Public Key\")\n",
    "                print(\"5) Print DB\")\n",
    "                print(\"6) Exit\")\n",
    "                inp = input(\"Choice?[1]:\").strip()\n",
    "                if(inp == \"1\"):\n",
    "                    pprint(db.keys())\n",
    "                    inp = int(input(f\"Choice?[{list(db.keys())[0]}]:\").strip())\n",
    "                    chosen_person = list(db.keys())[inp]\n",
    "                elif(inp == \"2\"):\n",
    "                    if(chosen_person):\n",
    "                        pprint(db[chosen_person][\"messages\"])\n",
    "                    else:\n",
    "                        print(\"No selected contact, please select one.\")\n",
    "                elif(inp==\"3\"):\n",
    "                    contact = input(\"Contact url:\")\n",
    "                    db[contact]={\"messages\":[],\"pubkey\":None}\n",
    "                    inp = input(\"PublicKey:\").strip('\\' ').encode()\n",
    "                    key = None\n",
    "                    try:\n",
    "                        key = RSA.import_key(inp)\n",
    "                    except:\n",
    "                        print(\"Import Failure! Please try again!\")\n",
    "                    db[contact][\"pubkey\"] = key\n",
    "                elif(inp==\"4\"):\n",
    "                    print(pub.export_key(\"OpenSSH\").decode())\n",
    "                elif(inp==\"5\"):\n",
    "                    print(db)\n",
    "                elif(inp==\"6\"):\n",
    "                    break;\n",
    "                else:\n",
    "                    print(\"Try again!\")\n",
    "            else:\n",
    "                if(chosen_person):\n",
    "                    send_message(db[chosen_person][\"pubkey\"],chosen_person,inp)\n",
    "                else:\n",
    "                    print(\"No selected contact, please select one.\")\n",
    "        except KeyboardInterrupt:\n",
    "            print(\"Exiting!\")\n",
    "            break\n",
    "        except Exception as e:\n",
    "            print(e)\n",
    "            continue"
   ]
  },
  {
   "cell_type": "code",
   "execution_count": null,
   "id": "d9952d84",
   "metadata": {
    "scrolled": false
   },
   "outputs": [
    {
     "name": "stdout",
     "output_type": "stream",
     "text": [
      ">$menu\n",
      "1) Contact list\n",
      "2) Messages\n",
      "3) New Contact\n",
      "4) Export Public Key\n",
      "5) Print DB\n",
      "6) Exit\n",
      "Choice?[1]:5\n",
      "{}\n",
      ">$menu\n",
      "1) Contact list\n",
      "2) Messages\n",
      "3) New Contact\n",
      "4) Export Public Key\n",
      "5) Print DB\n",
      "6) Exit\n",
      "Choice?[1]:4\n",
      "ssh-rsa AAAAB3NzaC1yc2EAAAADAQABAAABAQDFZNe7E3ruW8//ESTvPDbRoSlZfFU8MDmnhKgA8pufxSyMTm54ApvxK0PHez2h3/cQl1w74neIGUBHko+XodQM00KJc+ZitNzmvY2uHGnHRD4a38huhnq6bG1w+2i6ZvY2Kh08+nWZUb00Psd9yVsyb5mY2AkAwYeIiM0cnzQ5s+KfEoLZpq78yQwvIrbJdL0p6Y/iN2HO9D6O2Sf/z9hTnMdgPAJvOF9kDc3qHCW0YHMx39SUNdjcMLENaM1FMkCvg2HZu348+ISexdvjr9PxZRtj+Do/ZNtWhdHHJTwzTQIoDYICmj56I/ou7GsBjdbjscqE/MvqbpJ+DRvN3Rnh\n",
      ">$menu\n",
      "1) Contact list\n",
      "2) Messages\n",
      "3) New Contact\n",
      "4) Export Public Key\n",
      "5) Print DB\n",
      "6) Exit\n",
      "Choice?[1]:3\n",
      "Contact url:192.168.8.5\n",
      "PublicKey:ssh-rsa AAAAB3NzaC1yc2EAAAADAQABAAABAQCbd5wIZBn5cnz1mn74WlKo8s0NkvDzLVnFXBaLqlBy4vBx7s6OVD7MGcsTKvg0E7pSoL5A5Eq2BlxgVOse0tlI+dJKQ/uuiyJ7zw3aP08wHs+94oxyMfeS07k+Pf0MLOSn2R1x2lLGdeR3zoLF6KkPDbfTE89ZUaYitSzDAloFB86GnDhbcMwfRcKUHQK0e1HQ1Pz3Xz54+hW1k3KLaEuwyaT8nV6ocAt8SdjmDSLN4jih4QB4hPiFyFLhH4K1wlEls5b8PDVeADNNFUq1KARGPB+gMSmeqC3lIU9Q7C+XLPjkEpLz4jvONg+QVwvxRHhi8+H3n0N+J4xWEYyoeti9\n",
      ">$menu\n",
      "1) Contact list\n",
      "2) Messages\n",
      "3) New Contact\n",
      "4) Export Public Key\n",
      "5) Print DB\n",
      "6) Exit\n",
      "Choice?[1]:5\n",
      "{'192.168.8.5': {'messages': [], 'pubkey': RsaKey(n=19625918913962529344576586026821311363670108843422702577508125761104780840959416495531760171310901347046336147044882957849427884843618574114334733286214327916847948446646545963889805533502945715753489473710517444556294553504524609899993077357932427575346821829243077488756033960886749006289944791323834016532282367483056928500739202140075212366907962989421976837455390673136391682693943478321450994158361805513953496900636691420871621286502740852378635830554585176529778726482529911308504357222292633303608436443143684154133095712971471492075790987076875445045383897120972960691265188877903347539470239004445084670141, e=65537)}}\n",
      ">$menu\n",
      "1) Contact list\n",
      "2) Messages\n",
      "3) New Contact\n",
      "4) Export Public Key\n",
      "5) Print DB\n",
      "6) Exit\n",
      "Choice?[1]:1\n",
      "dict_keys(['192.168.8.5'])\n",
      "Choice?[192.168.8.5]:0\n",
      ">Hello\n"
     ]
    }
   ],
   "source": [
    "UI_Main()"
   ]
  },
  {
   "cell_type": "code",
   "execution_count": 14,
   "id": "29004c43",
   "metadata": {},
   "outputs": [],
   "source": [
    "keypair = generate_RSA_key()"
   ]
  },
  {
   "cell_type": "code",
   "execution_count": null,
   "id": "2505e60c",
   "metadata": {},
   "outputs": [],
   "source": []
  },
  {
   "cell_type": "code",
   "execution_count": null,
   "id": "6ccfd7d5",
   "metadata": {},
   "outputs": [],
   "source": []
  },
  {
   "cell_type": "code",
   "execution_count": 16,
   "id": "d6952889",
   "metadata": {},
   "outputs": [],
   "source": [
    "mess = encrypt(keypair[1],\"Hello\".encode())\n",
    "signed = sign(prv,mess)"
   ]
  },
  {
   "cell_type": "code",
   "execution_count": 17,
   "id": "3d9197d8",
   "metadata": {},
   "outputs": [
    {
     "data": {
      "text/plain": [
       "b'\\xaf\\x04\\xe4\\xa3\\xfd\\x9c$\\r\\xf8t\\xa4\\x9a\\x84W\\xeek\\xc3N\\x07\\xefW$N+y\\x81@\\xf99/\\x04\\x95\\xb8\\x88\\x96\\xcd\\xa7S\\x90\\xc7\\xa73-\\x80\\xd8\\xdbg\\xe7\\xd8A\\x9c,r\\x89\\xb7\\xb0j\\xe5\\xc1J\\x04\\x90@,\\xf5\\xb5\\x93\\xf4Gk0^\\x13n\\xa3\\xff9x\\xfb\\x90\\xb5\\xb7\\x11\\x8f\\xf2\\x10\\xd5\\x13bs/\\xa0\\xb9\\xebRT\\x064\\x9c\\x19\\xe1Y+\\xc1;\\x0e\\x99\\xca\\x12\\xb7P\\x97\\xd8\\xcek\\r\\xc1\\xb0^\\xb3\\x9d\\x85k\\xe2P\\xdfU\\no\\x19\\xaf\\x1a@\\x854\\x7f\\x86\\xd5\\xdbv\\x08\\x01W\\xe7A\\xf2\\x17\\xf7~\\xa1P\\x94\\xb8\\x87%\\xa9~^\\x88,\\xf0\\x99\\xc6U.\\x1fe\\t\\xf6\\x93J\\xaay\\x1b\\xcd\\x94\\xde8\\xd0\\x94\\xe2\\xbf\\xd6*\\xd9\\x8df\\xa6\\x8f\\xfbS\\x80,_\\x95%*\\xbf\\xe0\\xe4pZ\\xc7\\xf2\\xb6\\x0e3\\x97\\x99wGM\\xc5\\x1e;\\xd4U1\\x1b\\x1e(w\\t\\x0b\\x05W\\xf8\\x8c(\\xf1fcQ\\x914V\\x15\\x8e\\xa7/\\x08\\x8e\\xcd4\\xab\\xb0#\\xaf\\x93T3QeI\\xff\\x19'"
      ]
     },
     "execution_count": 17,
     "metadata": {},
     "output_type": "execute_result"
    }
   ],
   "source": [
    "signed"
   ]
  },
  {
   "cell_type": "code",
   "execution_count": 18,
   "id": "2c005368",
   "metadata": {},
   "outputs": [
    {
     "data": {
      "text/plain": [
       "b'ssh-rsa AAAAB3NzaC1yc2EAAAADAQABAAABAQDFZNe7E3ruW8//ESTvPDbRoSlZfFU8MDmnhKgA8pufxSyMTm54ApvxK0PHez2h3/cQl1w74neIGUBHko+XodQM00KJc+ZitNzmvY2uHGnHRD4a38huhnq6bG1w+2i6ZvY2Kh08+nWZUb00Psd9yVsyb5mY2AkAwYeIiM0cnzQ5s+KfEoLZpq78yQwvIrbJdL0p6Y/iN2HO9D6O2Sf/z9hTnMdgPAJvOF9kDc3qHCW0YHMx39SUNdjcMLENaM1FMkCvg2HZu348+ISexdvjr9PxZRtj+Do/ZNtWhdHHJTwzTQIoDYICmj56I/ou7GsBjdbjscqE/MvqbpJ+DRvN3Rnh'"
      ]
     },
     "execution_count": 18,
     "metadata": {},
     "output_type": "execute_result"
    }
   ],
   "source": [
    "pub.export_key(\"OpenSSH\")"
   ]
  },
  {
   "cell_type": "code",
   "execution_count": 19,
   "id": "179f4a74",
   "metadata": {},
   "outputs": [
    {
     "data": {
      "text/plain": [
       "b'ssh-rsa AAAAB3NzaC1yc2EAAAADAQABAAABAQCEGkPkgRSkw1wQF4vFns32RZhi0d74HFSvjtHITxOdbbImAbDJIh+2tCzYwHDvXElPiif4McWGbbDjWsZwXuDXs5gZj4KV4wAvD/CM58Jt1l/h2Phqvq7ZF0pe2aG5wJ0E0liqnrO/69K2ZnCl1HalBpzOKFO4ler20PicimJtwqkSKr7IEXj1gPGMQHGVjiPCgRmA/lwSQpThj37SJvq+H1dSAVAUBVt8FuIR7OMk01hDQ2NZmeEDdhYK+SwqWCrAr+7oTg3H1kRL+e61dNBdI7aEZ7eUSAKoTTPIouhmJ63np80TrnOOd4C4NjvgBMOUZYoL5yYZbgsvw3BTB1wT'"
      ]
     },
     "execution_count": 19,
     "metadata": {},
     "output_type": "execute_result"
    }
   ],
   "source": [
    "keypair[0].export_key(\"OpenSSH\")"
   ]
  },
  {
   "cell_type": "code",
   "execution_count": 20,
   "id": "86dc1fbc",
   "metadata": {},
   "outputs": [
    {
     "data": {
      "text/plain": [
       "b'gH*X\\xbbT,\\xd1r2i5\\x88d\\xaf\\xb2\\xe5\\xed\\xfc\\tR\\x1e\\x83\\xf5\\xbf\\xd5v\"\\xa5\\x9bF\\xc8\\xf7l82G\\x8aU\\x84Q\\xc8\\x89\\x0f\\xc7\\rR\\x19\\x05\\n,Nxs\\x13\\xbe Z|\\xb8\\xcf\\xdb/2 \\xfe\\xdft\\xa3A\\x94\\xf8\\xee\\xad1)G\\xab\\x11\\xda\\x03UZ\\xdah\\xc8\\xc7\\xd3\\xc8{\\xc0B\\xda\\x8e\\xdd\\xcc\\xd2B\\xfe\\x8a\\xd9J\\x96Z\\xd6\\xdd\\xa5~\\xe6ie\\xf8\\x86\\x17\\x81\\x14}rc&\\xba\\xd0\\xe7\\x1d:\\x17h\\x92\\x1ds\\xcfx\\xeaP\\xd8\\x03\\xac)\\xaf\\x9a\\xd17\\xafb\\xf9\\xeeK\\xb6\\x05d\\xa1\\x98\\xe9\\x8d%O8\\xacFe\\x91r^\\xcf\\xb9 s\\x91\\x8f\\xa6\\xb0;\\xc2\\x1b\\xfb|8o@\\x9a[D&oa\\x8b)\\x91\\x8b\\x1a\\xect\\xe46\\x86\\xa0P\\x8bQ_\\x10\\xe6U\\xc5{Y\\xedx)\\xb2\\x9d6\\n\\x82>4\\xe8i\\xe6\\xbc8v\\x16\\xdaE\\x06(\\x86\\x0cR\\xc9\\x14\\xe1\\xc9}F\\x03x\\x06`\\t\\xde\\x88\\xd8^\\x8ay\\x1f.\\x1d\\xaf3\\\\\\xb2z-'"
      ]
     },
     "execution_count": 20,
     "metadata": {},
     "output_type": "execute_result"
    }
   ],
   "source": [
    "mess"
   ]
  },
  {
   "cell_type": "code",
   "execution_count": null,
   "id": "8d52ef3f",
   "metadata": {},
   "outputs": [],
   "source": []
  }
 ],
 "metadata": {
  "kernelspec": {
   "display_name": "Python 3 (ipykernel)",
   "language": "python",
   "name": "python3"
  },
  "language_info": {
   "codemirror_mode": {
    "name": "ipython",
    "version": 3
   },
   "file_extension": ".py",
   "mimetype": "text/x-python",
   "name": "python",
   "nbconvert_exporter": "python",
   "pygments_lexer": "ipython3",
   "version": "3.9.9"
  }
 },
 "nbformat": 4,
 "nbformat_minor": 5
}
