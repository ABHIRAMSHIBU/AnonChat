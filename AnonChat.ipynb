{
 "cells": [
  {
   "cell_type": "code",
   "execution_count": 1,
   "id": "96a30432",
   "metadata": {},
   "outputs": [],
   "source": [
    "from threading import Thread\n",
    "from time import sleep\n",
    "import socket\n",
    "import pickle\n",
    "from Crypto.PublicKey import RSA\n",
    "from Crypto import Random\n",
    "from Crypto.Cipher import AES\n",
    "from Crypto.Signature.pkcs1_15 import PKCS115_SigScheme\n",
    "from Crypto.Cipher import PKCS1_v1_5 as Cipher_PKCS1_v1_5\n",
    "from Crypto.Hash import SHA256\n",
    "from pprint import pprint\n",
    "\n",
    "import os\n",
    "import hashlib\n",
    "\n",
    "HOST = \"192.168.8.5\"  # Standard loopback interface address (localhost)\n",
    "PORT = 9999  # Port to listen on (non-privileged ports are > 1023)"
   ]
  },
  {
   "cell_type": "code",
   "execution_count": 2,
   "id": "81f0e54d",
   "metadata": {},
   "outputs": [],
   "source": [
    "def generate_RSA_key():\n",
    "    keys = RSA.generate(2048)\n",
    "    pub  = RSA.import_key(keys.public_key().export_key('DER'))\n",
    "    prv  = RSA.import_key(keys.export_key('DER'))\n",
    "    return prv,pub\n",
    "\n",
    "def load_RSA_key():\n",
    "    if(os.path.exists(\"userkey.pickle\")):\n",
    "        try:\n",
    "            f=open(\"userkey.pickle\",\"rb\")\n",
    "            prv,pub = pickle.load(f)\n",
    "            prv = RSA.import_key(prv)\n",
    "            pub = RSA.import_key(pub)\n",
    "            return prv,pub\n",
    "        except Exception as e:\n",
    "            print(e)\n",
    "            return None\n",
    "    else:\n",
    "        return None\n",
    "\n",
    "def save_RSA_key(prv,pub):\n",
    "    keyfile = open(\"userkey.pickle\",\"wb\")\n",
    "    pickle.dump([prv.export_key(),pub.export_key()],keyfile)\n",
    "    keyfile.close()\n",
    "    print(\"Write success\")\n",
    "    return True\n",
    "\n",
    "def encrypt(key, data):\n",
    "    enc_data = Cipher_PKCS1_v1_5.new(key).encrypt(data)\n",
    "    return enc_data\n",
    "\n",
    "def decrypt(key,enc_data):\n",
    "    '''\n",
    "    Params\n",
    "        key - Key for decryption of message\n",
    "        enc - Encrypted message\n",
    "    '''\n",
    "    data = Cipher_PKCS1_v1_5.new(key).decrypt(enc_data,None)\n",
    "    return data\n",
    "\n",
    "def sign(keypair,data):\n",
    "    digest = SHA256.new(data)\n",
    "    signer = PKCS115_SigScheme(keypair)\n",
    "    signature = signer.sign(digest)\n",
    "    return signature\n",
    "\n",
    "\n",
    "def verify(enc_message,signature,publickey):\n",
    "    '''\n",
    "    Params\n",
    "        enc_message - Encrypted Message to be verified.\n",
    "        signature - Signature of the message.\n",
    "        publickey - Public of the Private key used to create signature\n",
    "    '''\n",
    "    data,enc_og,pubkey = enc_message,signature,publickey\n",
    "    digest = SHA256.new(data)\n",
    "    verifier = PKCS115_SigScheme(publickey)\n",
    "    try:\n",
    "        verifier.verify(digest, signature)\n",
    "        return True\n",
    "    except:\n",
    "        print(\"Verify Fail\")\n",
    "        return True\n",
    "\n",
    "def insertDB(dec_message,public_key,torurl):\n",
    "    global db\n",
    "    if(torurl not in db):\n",
    "        db[torurl]={\"messages\":[],\"pubkey\":public_key}\n",
    "    db[torurl][\"messages\"].append(dec_message)\n",
    "    \n",
    "def process_message(data):\n",
    "    # Format [torurl,enc_message,signature,public_key]\n",
    "    data = pickle.loads(data)\n",
    "    print(data)\n",
    "    torurl,enc_message,signature,public_key = data\n",
    "    public_key = RSA.import_key(public_key)\n",
    "    if(verify(enc_message,signature,public_key)):\n",
    "        dec_message = decrypt(prv,enc_message)\n",
    "        print(dec_message)\n",
    "        insertDB(dec_message,public_key,torurl)\n",
    "        print(\"Done!\")\n",
    "        return True\n",
    "    else:\n",
    "        print(\"Verification Failure\")\n",
    "        return False\n",
    "\n",
    "# Python Server\n",
    "def receiver_function():\n",
    "    try:\n",
    "        s = socket.socket(socket.AF_INET, socket.SOCK_STREAM)\n",
    "        s.bind((\"0.0.0.0\", PORT))\n",
    "        s.listen()\n",
    "        while True:\n",
    "            conn, addr = s.accept()\n",
    "            with conn:\n",
    "                # TODO: Threading might give better performance\n",
    "                while True:\n",
    "                    # Assuming 1024 bytes as max message size\n",
    "                    data = conn.recv(1024)\n",
    "                    if not data:\n",
    "                        break\n",
    "                    process_message(data)\n",
    "    except KeyboardInterrupt:\n",
    "        print(\"Bye..\")\n",
    "    \n",
    "# Client code for the AnonChat server\n",
    "def send_message(pub,torurl,message):\n",
    "    remote_host = torurl # URL for reciver \n",
    "    PORT = 9999   # Port for AnonChat on reciever \n",
    "    with socket.socket(socket.AF_INET, socket.SOCK_STREAM) as s:\n",
    "        s.connect((remote_host, PORT))\n",
    "        enc_message = encrypt(pub,message.encode())\n",
    "        signature = sign(prv,enc_message)\n",
    "        s.send(pickle.dumps([HOST,enc_message,signature,pub.export_key()]))\n",
    "        s.close()"
   ]
  },
  {
   "cell_type": "code",
   "execution_count": 3,
   "id": "3be885f7",
   "metadata": {},
   "outputs": [],
   "source": [
    "db = {}\n",
    "keys = load_RSA_key()\n",
    "prv,pub = (None,None)\n",
    "if(keys==None):\n",
    "    print(\"Keys not avaiable, generating\")\n",
    "    prv,pub = generate_RSA_key()\n",
    "    print(\"Saving keys\")\n",
    "    save_RSA_key(prv,pub)\n",
    "else:\n",
    "    prv,pub = keys\n",
    "thread_rec = Thread(target=receiver_function)"
   ]
  },
  {
   "cell_type": "code",
   "execution_count": 4,
   "id": "54db6211",
   "metadata": {},
   "outputs": [],
   "source": [
    "thread_rec.start() # Start main reciver thread"
   ]
  },
  {
   "cell_type": "code",
   "execution_count": 5,
   "id": "1072a648",
   "metadata": {},
   "outputs": [],
   "source": [
    "def UI_Main():\n",
    "    chosen_person = None\n",
    "    while(True):\n",
    "        try:\n",
    "            inp = input(\">\").strip()\n",
    "            if(inp == \"$help\"):\n",
    "                print(\"Help Menu - Conrgatz you have discovered help menu\")\n",
    "                print(\"1) $menu for menu\")\n",
    "                print(\"2) $help for help\")\n",
    "                print(\"Type a message to chat\")\n",
    "            elif(inp == \"$menu\"):\n",
    "                print(\"1) Contact list\")\n",
    "                print(\"2) Messages\")\n",
    "                print(\"3) New Contact\")\n",
    "                print(\"4) Export Public Key\")\n",
    "                print(\"5) Print DB\")\n",
    "                print(\"6) Exit\")\n",
    "                inp = input(\"Choice?[1]:\").strip()\n",
    "                if(inp == \"1\"):\n",
    "                    pprint(db.keys())\n",
    "                    inp = int(input(f\"Choice?[{list(db.keys())[0]}]:\").strip())\n",
    "                    chosen_person = list(db.keys())[inp]\n",
    "                elif(inp == \"2\"):\n",
    "                    if(chosen_person):\n",
    "                        pprint(db[chosen_person][\"messages\"])\n",
    "                    else:\n",
    "                        print(\"No selected contact, please select one.\")\n",
    "                elif(inp==\"3\"):\n",
    "                    contact = input(\"Contact url:\")\n",
    "                    db[contact]={\"messages\":[],\"pubkey\":None}\n",
    "                    inp = input(\"PublicKey:\").strip('\\' ').encode()\n",
    "                    key = None\n",
    "                    try:\n",
    "                        key = RSA.import_key(inp)\n",
    "                    except:\n",
    "                        print(\"Import Failure! Please try again!\")\n",
    "                    db[contact][\"pubkey\"] = key\n",
    "                elif(inp==\"4\"):\n",
    "                    print(pub.export_key(\"OpenSSH\").decode())\n",
    "                elif(inp==\"5\"):\n",
    "                    print(db)\n",
    "                elif(inp==\"6\"):\n",
    "                    break;\n",
    "                else:\n",
    "                    print(\"Try again!\")\n",
    "            else:\n",
    "                if(chosen_person):\n",
    "                    send_message(db[chosen_person][\"pubkey\"],chosen_person,inp)\n",
    "                else:\n",
    "                    print(\"No selected contact, please select one.\")\n",
    "        except KeyboardInterrupt:\n",
    "            print(\"Exiting!\")\n",
    "            break\n",
    "        except Exception as e:\n",
    "            print(e)\n",
    "            continue"
   ]
  },
  {
   "cell_type": "code",
   "execution_count": null,
   "id": "d9952d84",
   "metadata": {
    "scrolled": true
   },
   "outputs": [
    {
     "name": "stdout",
     "output_type": "stream",
     "text": [
      ">$menu\n",
      "1) Contact list\n",
      "2) Messages\n",
      "3) New Contact\n",
      "4) Export Public Key\n",
      "5) Print DB\n",
      "6) Exit\n",
      "Choice?[1]:4\n",
      "ssh-rsa AAAAB3NzaC1yc2EAAAADAQABAAABAQCbd5wIZBn5cnz1mn74WlKo8s0NkvDzLVnFXBaLqlBy4vBx7s6OVD7MGcsTKvg0E7pSoL5A5Eq2BlxgVOse0tlI+dJKQ/uuiyJ7zw3aP08wHs+94oxyMfeS07k+Pf0MLOSn2R1x2lLGdeR3zoLF6KkPDbfTE89ZUaYitSzDAloFB86GnDhbcMwfRcKUHQK0e1HQ1Pz3Xz54+hW1k3KLaEuwyaT8nV6ocAt8SdjmDSLN4jih4QB4hPiFyFLhH4K1wlEls5b8PDVeADNNFUq1KARGPB+gMSmeqC3lIU9Q7C+XLPjkEpLz4jvONg+QVwvxRHhi8+H3n0N+J4xWEYyoeti9\n",
      ">$menu\n",
      "1) Contact list\n",
      "2) Messages\n",
      "3) New Contact\n",
      "4) Export Public Key\n",
      "5) Print DB\n",
      "6) Exit\n",
      "Choice?[1]:3\n",
      "Contact url:192.168.8.5\n",
      "PublicKey:ssh-rsa AAAAB3NzaC1yc2EAAAADAQABAAABAQCbd5wIZBn5cnz1mn74WlKo8s0NkvDzLVnFXBaLqlBy4vBx7s6OVD7MGcsTKvg0E7pSoL5A5Eq2BlxgVOse0tlI+dJKQ/uuiyJ7zw3aP08wHs+94oxyMfeS07k+Pf0MLOSn2R1x2lLGdeR3zoLF6KkPDbfTE89ZUaYitSzDAloFB86GnDhbcMwfRcKUHQK0e1HQ1Pz3Xz54+hW1k3KLaEuwyaT8nV6ocAt8SdjmDSLN4jih4QB4hPiFyFLhH4K1wlEls5b8PDVeADNNFUq1KARGPB+gMSmeqC3lIU9Q7C+XLPjkEpLz4jvONg+QVwvxRHhi8+H3n0N+J4xWEYyoeti9\n",
      ">Hello\n",
      "No selected contact, please select one.\n",
      ">$mewnu\n",
      "No selected contact, please select one.\n",
      ">$mnu\n",
      "No selected contact, please select one.\n",
      ">$menu\n",
      "1) Contact list\n",
      "2) Messages\n",
      "3) New Contact\n",
      "4) Export Public Key\n",
      "5) Print DB\n",
      "6) Exit\n",
      "Choice?[1]:1\n",
      "dict_keys(['192.168.8.5'])\n",
      "Choice?[192.168.8.5]:0\n",
      ">Hello\n",
      "['192.168.8.5', b',\\'\\xbaU\\xcf\\xb3b\\xed[\\x90\\xe9\\xfd\\x14\\x8c2J\\xadC\\xa3\\xed\\xd0a\\xc2\\n\\xfc\\\\2\\x1b\\xc5\\x04#?=\\xd2\\xaf.\\x7fl\\x83kY\\x99\\x19\\xa0\\xc8v\\xeek\\x7f<L\\xa2C,\\xe6(\\xfa+\\xda\\xe9\\x07\\xa4\\xb7\\x90\\xc3qM\\xf22z\\xaa\\xed\\xdc\\xcb\\xe4~\\xb4\\xc2=m:\\x9f\\xbbn\\x19\\xa3\\xd8\\xf0\\xa8\\x9e2\\x91\\xc9\\xe1\\xb7\\xfa+\\xaf\\xb8\\xe7\\x80\\xbc\\x92\\xa1j\\xd4\\x82\\x83.:\\xf8orP\\x94C\\x85\\x12~\\x81+T\\xf6\\x9d\\x89\\xf9\\xce\\xdd.2:\\xec\\xa2S\\xdcs\\xf53{\\x91\\xd6\\x9c\\xbbS5\\xa2\\xab\\xd3\\xae\\xd1\\x8e\\xc1\\x16\\xde\\xce\\x97\\n:\\xfa\\x9c\\x7f\\xee\\xac^V\\x95\\xe1J\\x9b\\x19\\x0f\\xc1h\\x1e\\x061\\xbc\\x1ei]\\x02K\\xcc^\\xc7X\\xda\\\\\\x11h\\xe1\\xf2\\xc7\\xee\\xbb\\x1cS(\"\\xce\\xe8;\\x1b\\x89\\xb6M\\x05\\xc3\\xe1\\x14\\x8f\\x95\\x00\\x00-\\xecn\\xf1\\xc8J\\xf7\\xa9\\xdf\\xfa`\\x04\\x06\\r\\x92\\xd9\\xdd\\xd1\\x86>*\\x00*\\xee\\xb1\\x9fm\\xee\\xb2T\\x10,;\\x1b\\xa8-\\xe4J_\\t\\x993', b'T\\x8ce\\xd5B\\x894\\xd9\\xe4\\x90$\\xb6\\x1c\\xb2u\\x07\\xe0s7\\xa4\\x1b\\xd6t\\xfa\\n\\x94\\xb8\\xea+?M\\xe9\\xac\\xe7}\\x92\\x89\\xbf\\xb2j\\xc2\\x82\\xcf\\xef\\t\\xacR\\xf74h\\x89(\\xfc\\x88\\xe7\\x90\\xaa\\x83\\x15.\\xa0H?\\x96&\\xdfzE!.2\\xe7C\\xd6\\x07\\x1e>)\\xfd\\xd1\\xdc\\x7f\\x84\\xf8\\xbfk\\xb3\\xfa_\\xca8>\\xe0\\x0e\\x00\\xbca7e\\xd7/b\\xf7W+o&4\\xed\\xa0b_\\xbb\\xea\\xe5\\x02\\xa9\\xde&\\x91yG[\\x19{\\xc7\\x84Z2\\xc4\\xdf\\x82b\\x82?\\xa9\\xc6ls\\xeb)\\x06\\xfd\\xac\\xd0fH|$\\xd79\\x19\\xa0\\x1c:\\xd4\\x9a\\xfe\\xd2\\xea\\xee\\xe10\\xe5$x\\xcd\\xe1n\\xde\\xb3\\xf2\\x7f\\xb9\\x9fM\\x1b}Ln\\x9f\\xbdQ4\\xef\\x83\\xb5\\xb7\\x01\\x0e\\xb6}\\x90Zt\\xfc\\x05:\\xc0x\\xe3Wa\\x1dl\\xe8\\xbbb\\x01\\x14\\x03L}\\xd0\\xff\\x13\\xc0C\\xa2\\xc6`1U,\\x15\\x0cd\\x86\\x19y3\\xa7\\x1774\\xc5sN]\\x82\\x82[\\x95\\x7f\\xb5\\xe1\\x81G6YcNfj\\xc0\\x13', b'-----BEGIN PUBLIC KEY-----\\nMIIBIjANBgkqhkiG9w0BAQEFAAOCAQ8AMIIBCgKCAQEAm3ecCGQZ+XJ89Zp++FpS\\nqPLNDZLw8y1ZxVwWi6pQcuLwce7OjlQ+zBnLEyr4NBO6UqC+QORKtgZcYFTrHtLZ\\nSPnSSkP7rosie88N2j9PMB7PveKMcjH3ktO5Pj39DCzkp9kdcdpSxnXkd86Cxeip\\nDw230xPPWVGmIrUswwJaBQfOhpw4W3DMH0XClB0CtHtR0NT8918+ePoVtZNyi2hL\\nsMmk/J1eqHALfEnY5g0izeI4oeEAeIT4hchS4R+CtcJRJbOW/Dw1XgAzTRVKtSgE\\nRjwfoDEpnqgt5SFPUOwvlyz45BKS8+I7zjYPkFcL8UR4YvPh959DfieMVhGMqHrY\\nvQIDAQAB\\n-----END PUBLIC KEY-----']\n",
      "b'Hello'\n",
      "Done!\n",
      ">$menu\n",
      "1) Contact list\n",
      "2) Messages\n",
      "3) New Contact\n",
      "4) Export Public Key\n",
      "5) Print DB\n",
      "6) Exit\n",
      "Choice?[1]:5\n",
      "{'192.168.8.5': {'messages': [b'Hello'], 'pubkey': RsaKey(n=19625918913962529344576586026821311363670108843422702577508125761104780840959416495531760171310901347046336147044882957849427884843618574114334733286214327916847948446646545963889805533502945715753489473710517444556294553504524609899993077357932427575346821829243077488756033960886749006289944791323834016532282367483056928500739202140075212366907962989421976837455390673136391682693943478321450994158361805513953496900636691420871621286502740852378635830554585176529778726482529911308504357222292633303608436443143684154133095712971471492075790987076875445045383897120972960691265188877903347539470239004445084670141, e=65537)}}\n",
      "['192.168.43.3', b'5\\x8f\\xba\\x000\\xa5\\xd4\\xebQ\\xf4\\xbd\\x1e\\xf8\\x0e\\x91\\x18~\\x04*9-F\\xce\\x8fl\\x069XOm\\xd7\\x84oW\\xb94\\xb4%\\xa0`\\x05\\xdb\\x8dh?Y\\x88\\x11#\\xce\\xd7\\xe2\\xd6\\x06\\'\\x96\\xf0\\xcc\\xad(Rc\\x8b\\x9c\\xc5I\\x95\\xe6\\x02\\x9fu\\xa1q\\x8e[\\x0cD\\xc9\"z6T`\\xf0\\x0ejp\\x90\\xa8B\\x9e}\\xbb9\\x04\\xc4\\xdbW\\xe9T2\\xe3?\\x84\\xb0\\x15\\xa1\\xf9Q\\xf8E_/\\xbf\\xf8\\xa6\\xe4\\x0b\\x98v6\\x12\\xa7l\\xbcA\\xde21\\xc6\\xaa\\xe8\\x13\\x10\\x060\\xdd\\x17\\xb7E\\xcc\\xa6\\x0cb.\\xf4O6&4\\xcb\"C\\xfb\\xf3\\xdf\\xbeU\\xfbI\\xa0\\'\\x90\\x90\\x831\\x03\\xcdA\\xb0\\xe7\\x14\\xa9\\x95\\xbbI\\xdb\\xbbx\\xca\\x83\\x18$\\td\\xb7c\\x9c\\xbe\\xe0\\xc6\\x93\\x81,r\\xc4\\x18g\\x0c\\'\\x97\\xbf\\xcd\\x0e\\xfa\\xf9(\\xd3p\\xa4^R\\x14\\x95q\\xd6\\x1b\\x1f\\x01\\xc8\\x80W\\xae\"\\xb9&\\x99\\x7f\\xae\\x01\\xb3p\\x196\\x0f\\x0e^c\\x93\\xcc\\xab\\x84E\\x0c\\xb4-ks\\xedJ\\x013z\\x05\\xdbi', b\"\\xac\\xe4\\xba\\xe9H\\xca8Bd\\xff\\x8b\\x9b8h\\xd40Ocs\\xed\\xbemy\\x83)iY\\x1b\\x8e>\\xa1\\x8d\\xb1~\\xe1\\xf1\\x07\\xf5\\xdfr\\xe4\\xf8\\xd5-9:\\x11\\xd8\\x14\\xc5\\xbc\\x8a\\r\\xfe\\xbeI\\xae,\\xcb\\xf7+\\xac\\x13\\x81\\x10\\xda\\xbbqK[\\xf9\\x18\\xb5\\r\\x96X\\xea\\xd4\\xaa\\xed\\xdc\\xa4LX\\x17\\xfa\\xa7'=\\x16\\xaaiM\\nz\\x92n\\xe1^\\xd5\\x89\\xfa\\x92p\\xac\\xa8\\xf2\\x1b\\x89,\\xc2\\x81\\xdd\\n\\x17ET\\xc7S\\xdcz\\xd6\\xbb\\x84\\x7f\\xac*\\x16q\\x97\\xdf\\xde9%\\x18/\\x84LN\\xe6\\xf9\\x91.\\x8c\\xdb\\x9bt\\xcc\\xe9\\xe0\\x12\\xffb\\xb4|t\\x02\\xb8\\x10\\xd6\\x8d!-\\xebf\\xa0\\xf9lHb`8\\x856l\\xe5\\xa4\\x94kT\\x04\\xf9\\x02#\\x96\\x98\\xd4~_\\xc0\\xffIp9H3\\xb8sPh\\xef\\x80P9\\x94\\xb1\\x91\\x94J \\xf2\\t\\xdeA\\xffplMl&\\x10\\x16\\xac\\x89S\\xb4\\xef\\xd3\\x03\\x01\\xd3`G]I\\xafq\\xd2\\x9fq\\xe6E\\xae\\xb7K\\xba\\x97>\\x91SG\\xad\\x1aI\\x90\\x93\", b'-----BEGIN PUBLIC KEY-----\\nMIIBIjANBgkqhkiG9w0BAQEFAAOCAQ8AMIIBCgKCAQEAm3ecCGQZ+XJ89Zp++FpS\\nqPLNDZLw8y1ZxVwWi6pQcuLwce7OjlQ+zBnLEyr4NBO6UqC+QORKtgZcYFTrHtLZ\\nSPnSSkP7rosie88N2j9PMB7PveKMcjH3ktO5Pj39DCzkp9kdcdpSxnXkd86Cxeip\\nDw230xPPWVGmIrUswwJaBQfOhpw4W3DMH0XClB0CtHtR0NT8918+ePoVtZNyi2hL\\nsMmk/J1eqHALfEnY5g0izeI4oeEAeIT4hchS4R+CtcJRJbOW/Dw1XgAzTRVKtSgE\\nRjwfoDEpnqgt5SFPUOwvlyz45BKS8+I7zjYPkFcL8UR4YvPh959DfieMVhGMqHrY\\nvQIDAQAB\\n-----END PUBLIC KEY-----']\n",
      "Verify Fail\n",
      "b'Hello'\n",
      "Done!\n"
     ]
    }
   ],
   "source": [
    "UI_Main()"
   ]
  },
  {
   "cell_type": "code",
   "execution_count": null,
   "id": "50ca18ff",
   "metadata": {},
   "outputs": [],
   "source": []
  },
  {
   "cell_type": "code",
   "execution_count": 7,
   "id": "81910b71",
   "metadata": {},
   "outputs": [],
   "source": [
    "signed = b'U\\xed\\xa8^\\xbdm\\x13B\\x1a\\x1cO\\xd7\\xe7i\\xeeG%]\\xfa\\xcfS\\xc6>)\\xa5\\xc6E\\xbch=\\xf7Ho\\x0e\\xd0\"\\xa9{\\xd9\\xcf~\\xda\\xee\\x12\\x90\\x18L\\'\\xb6\\xa2%\\xd7\\xfc}\\\\K\\xe8\\xc8\"^\\xaa\\xd9.T\"\\xf67\\xfc\\xd2Q\\x86_\\x0e]_\\x14\\x8fHM\\x1b\"\\r\\x0b:\\xe1\\xda]\\xb7_#}\\xa6\\xc7>\\xcdc\\x0b\\xa0\\x97&\\xb2s\\x9b\\\\\\xbc\\x9a\\xfb\\x93\\x89Q\\xdd\\x1c\\x01\\xaaX\\x7f\\xb3\\xd9\\x04y\\xb1\\xf1D\\xd0\\xe6\\xab\\x19\\x9a/B\\x12l\\xae\\x18\\x95`6\\x7fD)\\xc6\\xd0]*9[\\xd08\\xf3Ni\\xc6\\xaeu\\x9d\\xb4\\xa7\\xa0\\xf4\\xb7\\x05\\xdeq\\xebP\\x92\\x9dE\\xbb6\\x8a\\xbd#\\x93\"\\xe2\\xa9\\xa2\\x00\\xe1\\xdd6*\\x06\\x98\\xee\\xe1C\\xdc\\xf1\\x8c\\x07\\xba\\x95M\\xf7(\\xafJ\\xb3\\x0e\\xe2\\x0e\\xcc\\x16-\\xf6\\xd1\\xe4\\x14i\\xe7\\x86`PQ\\x9eF\\xb2\\xf9\\xa7\\x92j\\x95\\x1cOrX\\x7f[\\x99\\x02/ \\xfe\\x95\\xf2\\x91\\x01J\\xaf|A\\x9c\\x85\\xc6p\\xa9\\x89\\xd0e\\x9f\\x96\\x90\\xa2\\x06'"
   ]
  },
  {
   "cell_type": "code",
   "execution_count": 8,
   "id": "c49479f5",
   "metadata": {},
   "outputs": [],
   "source": [
    "key = b'ssh-rsa AAAAB3NzaC1yc2EAAAADAQABAAABAQDFZNe7E3ruW8//ESTvPDbRoSlZfFU8MDmnhKgA8pufxSyMTm54ApvxK0PHez2h3/cQl1w74neIGUBHko+XodQM00KJc+ZitNzmvY2uHGnHRD4a38huhnq6bG1w+2i6ZvY2Kh08+nWZUb00Psd9yVsyb5mY2AkAwYeIiM0cnzQ5s+KfEoLZpq78yQwvIrbJdL0p6Y/iN2HO9D6O2Sf/z9hTnMdgPAJvOF9kDc3qHCW0YHMx39SUNdjcMLENaM1FMkCvg2HZu348+ISexdvjr9PxZRtj+Do/ZNtWhdHHJTwzTQIoDYICmj56I/ou7GsBjdbjscqE/MvqbpJ+DRvN3Rnh'"
   ]
  },
  {
   "cell_type": "code",
   "execution_count": 9,
   "id": "36f4d245",
   "metadata": {},
   "outputs": [],
   "source": [
    "key = RSA.import_key(key)"
   ]
  },
  {
   "cell_type": "code",
   "execution_count": 11,
   "id": "147bcaff",
   "metadata": {},
   "outputs": [
    {
     "name": "stdout",
     "output_type": "stream",
     "text": [
      "Verify Fail\n"
     ]
    },
    {
     "data": {
      "text/plain": [
       "True"
      ]
     },
     "execution_count": 11,
     "metadata": {},
     "output_type": "execute_result"
    }
   ],
   "source": [
    "verify(\"Helloh\".encode(),signed,key)"
   ]
  },
  {
   "cell_type": "code",
   "execution_count": 12,
   "id": "867bf745",
   "metadata": {},
   "outputs": [],
   "source": [
    "testpriv = RSA.import_key(b'ssh-rsa AAAAB3NzaC1yc2EAAAADAQABAAABAQCEGkPkgRSkw1wQF4vFns32RZhi0d74HFSvjtHITxOdbbImAbDJIh+2tCzYwHDvXElPiif4McWGbbDjWsZwXuDXs5gZj4KV4wAvD/CM58Jt1l/h2Phqvq7ZF0pe2aG5wJ0E0liqnrO/69K2ZnCl1HalBpzOKFO4ler20PicimJtwqkSKr7IEXj1gPGMQHGVjiPCgRmA/lwSQpThj37SJvq+H1dSAVAUBVt8FuIR7OMk01hDQ2NZmeEDdhYK+SwqWCrAr+7oTg3H1kRL+e61dNBdI7aEZ7eUSAKoTTPIouhmJ63np80TrnOOd4C4NjvgBMOUZYoL5yYZbgsvw3BTB1wT')"
   ]
  },
  {
   "cell_type": "code",
   "execution_count": 14,
   "id": "c87517bc",
   "metadata": {},
   "outputs": [
    {
     "data": {
      "text/plain": [
       "RsaKey(n=16676408111048271099874660429277627088265003749528702029823942851552414471572529063562948816896009244775008501624760410190049399466117546906924923085322343816820082882532673046691871214514615338541320782079762854897311623268395602528790453402028874812777776543556173720790794739259111034877870106741694567866887491774868365090462706958673983346250196656322265509807746733792786940163567270022161914977066526354599994803697679532989846239150421968205581362072249392305384653949130989986576679715917155526176883671255701248539403773410402737548500519751251463807820879444669917550628592218636113783278057087836373867539, e=65537)"
      ]
     },
     "execution_count": 14,
     "metadata": {},
     "output_type": "execute_result"
    }
   ],
   "source": [
    "testpriv"
   ]
  },
  {
   "cell_type": "code",
   "execution_count": 15,
   "id": "5dfa6898",
   "metadata": {},
   "outputs": [
    {
     "ename": "TypeError",
     "evalue": "This is not a private key",
     "output_type": "error",
     "traceback": [
      "\u001b[0;31m---------------------------------------------------------------------------\u001b[0m",
      "\u001b[0;31mTypeError\u001b[0m                                 Traceback (most recent call last)",
      "Input \u001b[0;32mIn [15]\u001b[0m, in \u001b[0;36m<cell line: 1>\u001b[0;34m()\u001b[0m\n\u001b[0;32m----> 1\u001b[0m \u001b[43mdecrypt\u001b[49m\u001b[43m(\u001b[49m\u001b[43mtestpriv\u001b[49m\u001b[43m,\u001b[49m\u001b[38;5;124;43mb\u001b[39;49m\u001b[38;5;124;43m'\u001b[39;49m\u001b[38;5;124;43mgH*X\u001b[39;49m\u001b[38;5;130;43;01m\\xbb\u001b[39;49;00m\u001b[38;5;124;43mT,\u001b[39;49m\u001b[38;5;130;43;01m\\xd1\u001b[39;49;00m\u001b[38;5;124;43mr2i5\u001b[39;49m\u001b[38;5;130;43;01m\\x88\u001b[39;49;00m\u001b[38;5;124;43md\u001b[39;49m\u001b[38;5;130;43;01m\\xaf\u001b[39;49;00m\u001b[38;5;130;43;01m\\xb2\u001b[39;49;00m\u001b[38;5;130;43;01m\\xe5\u001b[39;49;00m\u001b[38;5;130;43;01m\\xed\u001b[39;49;00m\u001b[38;5;130;43;01m\\xfc\u001b[39;49;00m\u001b[38;5;130;43;01m\\t\u001b[39;49;00m\u001b[38;5;124;43mR\u001b[39;49m\u001b[38;5;130;43;01m\\x1e\u001b[39;49;00m\u001b[38;5;130;43;01m\\x83\u001b[39;49;00m\u001b[38;5;130;43;01m\\xf5\u001b[39;49;00m\u001b[38;5;130;43;01m\\xbf\u001b[39;49;00m\u001b[38;5;130;43;01m\\xd5\u001b[39;49;00m\u001b[38;5;124;43mv\u001b[39;49m\u001b[38;5;124;43m\"\u001b[39;49m\u001b[38;5;130;43;01m\\xa5\u001b[39;49;00m\u001b[38;5;130;43;01m\\x9b\u001b[39;49;00m\u001b[38;5;124;43mF\u001b[39;49m\u001b[38;5;130;43;01m\\xc8\u001b[39;49;00m\u001b[38;5;130;43;01m\\xf7\u001b[39;49;00m\u001b[38;5;124;43ml82G\u001b[39;49m\u001b[38;5;130;43;01m\\x8a\u001b[39;49;00m\u001b[38;5;124;43mU\u001b[39;49m\u001b[38;5;130;43;01m\\x84\u001b[39;49;00m\u001b[38;5;124;43mQ\u001b[39;49m\u001b[38;5;130;43;01m\\xc8\u001b[39;49;00m\u001b[38;5;130;43;01m\\x89\u001b[39;49;00m\u001b[38;5;130;43;01m\\x0f\u001b[39;49;00m\u001b[38;5;130;43;01m\\xc7\u001b[39;49;00m\u001b[38;5;130;43;01m\\r\u001b[39;49;00m\u001b[38;5;124;43mR\u001b[39;49m\u001b[38;5;130;43;01m\\x19\u001b[39;49;00m\u001b[38;5;130;43;01m\\x05\u001b[39;49;00m\u001b[38;5;130;43;01m\\n\u001b[39;49;00m\u001b[38;5;124;43m,Nxs\u001b[39;49m\u001b[38;5;130;43;01m\\x13\u001b[39;49;00m\u001b[38;5;130;43;01m\\xbe\u001b[39;49;00m\u001b[38;5;124;43m Z|\u001b[39;49m\u001b[38;5;130;43;01m\\xb8\u001b[39;49;00m\u001b[38;5;130;43;01m\\xcf\u001b[39;49;00m\u001b[38;5;130;43;01m\\xdb\u001b[39;49;00m\u001b[38;5;124;43m/2 \u001b[39;49m\u001b[38;5;130;43;01m\\xfe\u001b[39;49;00m\u001b[38;5;130;43;01m\\xdf\u001b[39;49;00m\u001b[38;5;124;43mt\u001b[39;49m\u001b[38;5;130;43;01m\\xa3\u001b[39;49;00m\u001b[38;5;124;43mA\u001b[39;49m\u001b[38;5;130;43;01m\\x94\u001b[39;49;00m\u001b[38;5;130;43;01m\\xf8\u001b[39;49;00m\u001b[38;5;130;43;01m\\xee\u001b[39;49;00m\u001b[38;5;130;43;01m\\xad\u001b[39;49;00m\u001b[38;5;124;43m1)G\u001b[39;49m\u001b[38;5;130;43;01m\\xab\u001b[39;49;00m\u001b[38;5;130;43;01m\\x11\u001b[39;49;00m\u001b[38;5;130;43;01m\\xda\u001b[39;49;00m\u001b[38;5;130;43;01m\\x03\u001b[39;49;00m\u001b[38;5;124;43mUZ\u001b[39;49m\u001b[38;5;130;43;01m\\xda\u001b[39;49;00m\u001b[38;5;124;43mh\u001b[39;49m\u001b[38;5;130;43;01m\\xc8\u001b[39;49;00m\u001b[38;5;130;43;01m\\xc7\u001b[39;49;00m\u001b[38;5;130;43;01m\\xd3\u001b[39;49;00m\u001b[38;5;130;43;01m\\xc8\u001b[39;49;00m\u001b[38;5;124;43m{\u001b[39;49m\u001b[38;5;130;43;01m\\xc0\u001b[39;49;00m\u001b[38;5;124;43mB\u001b[39;49m\u001b[38;5;130;43;01m\\xda\u001b[39;49;00m\u001b[38;5;130;43;01m\\x8e\u001b[39;49;00m\u001b[38;5;130;43;01m\\xdd\u001b[39;49;00m\u001b[38;5;130;43;01m\\xcc\u001b[39;49;00m\u001b[38;5;130;43;01m\\xd2\u001b[39;49;00m\u001b[38;5;124;43mB\u001b[39;49m\u001b[38;5;130;43;01m\\xfe\u001b[39;49;00m\u001b[38;5;130;43;01m\\x8a\u001b[39;49;00m\u001b[38;5;130;43;01m\\xd9\u001b[39;49;00m\u001b[38;5;124;43mJ\u001b[39;49m\u001b[38;5;130;43;01m\\x96\u001b[39;49;00m\u001b[38;5;124;43mZ\u001b[39;49m\u001b[38;5;130;43;01m\\xd6\u001b[39;49;00m\u001b[38;5;130;43;01m\\xdd\u001b[39;49;00m\u001b[38;5;130;43;01m\\xa5\u001b[39;49;00m\u001b[38;5;124;43m~\u001b[39;49m\u001b[38;5;130;43;01m\\xe6\u001b[39;49;00m\u001b[38;5;124;43mie\u001b[39;49m\u001b[38;5;130;43;01m\\xf8\u001b[39;49;00m\u001b[38;5;130;43;01m\\x86\u001b[39;49;00m\u001b[38;5;130;43;01m\\x17\u001b[39;49;00m\u001b[38;5;130;43;01m\\x81\u001b[39;49;00m\u001b[38;5;130;43;01m\\x14\u001b[39;49;00m\u001b[38;5;124;43m}rc&\u001b[39;49m\u001b[38;5;130;43;01m\\xba\u001b[39;49;00m\u001b[38;5;130;43;01m\\xd0\u001b[39;49;00m\u001b[38;5;130;43;01m\\xe7\u001b[39;49;00m\u001b[38;5;130;43;01m\\x1d\u001b[39;49;00m\u001b[38;5;124;43m:\u001b[39;49m\u001b[38;5;130;43;01m\\x17\u001b[39;49;00m\u001b[38;5;124;43mh\u001b[39;49m\u001b[38;5;130;43;01m\\x92\u001b[39;49;00m\u001b[38;5;130;43;01m\\x1d\u001b[39;49;00m\u001b[38;5;124;43ms\u001b[39;49m\u001b[38;5;130;43;01m\\xcf\u001b[39;49;00m\u001b[38;5;124;43mx\u001b[39;49m\u001b[38;5;130;43;01m\\xea\u001b[39;49;00m\u001b[38;5;124;43mP\u001b[39;49m\u001b[38;5;130;43;01m\\xd8\u001b[39;49;00m\u001b[38;5;130;43;01m\\x03\u001b[39;49;00m\u001b[38;5;130;43;01m\\xac\u001b[39;49;00m\u001b[38;5;124;43m)\u001b[39;49m\u001b[38;5;130;43;01m\\xaf\u001b[39;49;00m\u001b[38;5;130;43;01m\\x9a\u001b[39;49;00m\u001b[38;5;130;43;01m\\xd1\u001b[39;49;00m\u001b[38;5;124;43m7\u001b[39;49m\u001b[38;5;130;43;01m\\xaf\u001b[39;49;00m\u001b[38;5;124;43mb\u001b[39;49m\u001b[38;5;130;43;01m\\xf9\u001b[39;49;00m\u001b[38;5;130;43;01m\\xee\u001b[39;49;00m\u001b[38;5;124;43mK\u001b[39;49m\u001b[38;5;130;43;01m\\xb6\u001b[39;49;00m\u001b[38;5;130;43;01m\\x05\u001b[39;49;00m\u001b[38;5;124;43md\u001b[39;49m\u001b[38;5;130;43;01m\\xa1\u001b[39;49;00m\u001b[38;5;130;43;01m\\x98\u001b[39;49;00m\u001b[38;5;130;43;01m\\xe9\u001b[39;49;00m\u001b[38;5;130;43;01m\\x8d\u001b[39;49;00m\u001b[38;5;124;43m%\u001b[39;49m\u001b[38;5;124;43mO8\u001b[39;49m\u001b[38;5;130;43;01m\\xac\u001b[39;49;00m\u001b[38;5;124;43mFe\u001b[39;49m\u001b[38;5;130;43;01m\\x91\u001b[39;49;00m\u001b[38;5;124;43mr^\u001b[39;49m\u001b[38;5;130;43;01m\\xcf\u001b[39;49;00m\u001b[38;5;130;43;01m\\xb9\u001b[39;49;00m\u001b[38;5;124;43m s\u001b[39;49m\u001b[38;5;130;43;01m\\x91\u001b[39;49;00m\u001b[38;5;130;43;01m\\x8f\u001b[39;49;00m\u001b[38;5;130;43;01m\\xa6\u001b[39;49;00m\u001b[38;5;130;43;01m\\xb0\u001b[39;49;00m\u001b[38;5;124;43m;\u001b[39;49m\u001b[38;5;130;43;01m\\xc2\u001b[39;49;00m\u001b[38;5;130;43;01m\\x1b\u001b[39;49;00m\u001b[38;5;130;43;01m\\xfb\u001b[39;49;00m\u001b[38;5;124;43m|8o@\u001b[39;49m\u001b[38;5;130;43;01m\\x9a\u001b[39;49;00m\u001b[38;5;124;43m[D&oa\u001b[39;49m\u001b[38;5;130;43;01m\\x8b\u001b[39;49;00m\u001b[38;5;124;43m)\u001b[39;49m\u001b[38;5;130;43;01m\\x91\u001b[39;49;00m\u001b[38;5;130;43;01m\\x8b\u001b[39;49;00m\u001b[38;5;130;43;01m\\x1a\u001b[39;49;00m\u001b[38;5;130;43;01m\\xec\u001b[39;49;00m\u001b[38;5;124;43mt\u001b[39;49m\u001b[38;5;130;43;01m\\xe4\u001b[39;49;00m\u001b[38;5;124;43m6\u001b[39;49m\u001b[38;5;130;43;01m\\x86\u001b[39;49;00m\u001b[38;5;130;43;01m\\xa0\u001b[39;49;00m\u001b[38;5;124;43mP\u001b[39;49m\u001b[38;5;130;43;01m\\x8b\u001b[39;49;00m\u001b[38;5;124;43mQ_\u001b[39;49m\u001b[38;5;130;43;01m\\x10\u001b[39;49;00m\u001b[38;5;130;43;01m\\xe6\u001b[39;49;00m\u001b[38;5;124;43mU\u001b[39;49m\u001b[38;5;130;43;01m\\xc5\u001b[39;49;00m\u001b[38;5;124;43m{\u001b[39;49m\u001b[38;5;124;43mY\u001b[39;49m\u001b[38;5;130;43;01m\\xed\u001b[39;49;00m\u001b[38;5;124;43mx)\u001b[39;49m\u001b[38;5;130;43;01m\\xb2\u001b[39;49;00m\u001b[38;5;130;43;01m\\x9d\u001b[39;49;00m\u001b[38;5;124;43m6\u001b[39;49m\u001b[38;5;130;43;01m\\n\u001b[39;49;00m\u001b[38;5;130;43;01m\\x82\u001b[39;49;00m\u001b[38;5;124;43m>4\u001b[39;49m\u001b[38;5;130;43;01m\\xe8\u001b[39;49;00m\u001b[38;5;124;43mi\u001b[39;49m\u001b[38;5;130;43;01m\\xe6\u001b[39;49;00m\u001b[38;5;130;43;01m\\xbc\u001b[39;49;00m\u001b[38;5;124;43m8v\u001b[39;49m\u001b[38;5;130;43;01m\\x16\u001b[39;49;00m\u001b[38;5;130;43;01m\\xda\u001b[39;49;00m\u001b[38;5;124;43mE\u001b[39;49m\u001b[38;5;130;43;01m\\x06\u001b[39;49;00m\u001b[38;5;124;43m(\u001b[39;49m\u001b[38;5;130;43;01m\\x86\u001b[39;49;00m\u001b[38;5;130;43;01m\\x0c\u001b[39;49;00m\u001b[38;5;124;43mR\u001b[39;49m\u001b[38;5;130;43;01m\\xc9\u001b[39;49;00m\u001b[38;5;130;43;01m\\x14\u001b[39;49;00m\u001b[38;5;130;43;01m\\xe1\u001b[39;49;00m\u001b[38;5;130;43;01m\\xc9\u001b[39;49;00m\u001b[38;5;124;43m}F\u001b[39;49m\u001b[38;5;130;43;01m\\x03\u001b[39;49;00m\u001b[38;5;124;43mx\u001b[39;49m\u001b[38;5;130;43;01m\\x06\u001b[39;49;00m\u001b[38;5;124;43m`\u001b[39;49m\u001b[38;5;130;43;01m\\t\u001b[39;49;00m\u001b[38;5;130;43;01m\\xde\u001b[39;49;00m\u001b[38;5;130;43;01m\\x88\u001b[39;49;00m\u001b[38;5;130;43;01m\\xd8\u001b[39;49;00m\u001b[38;5;124;43m^\u001b[39;49m\u001b[38;5;130;43;01m\\x8a\u001b[39;49;00m\u001b[38;5;124;43my\u001b[39;49m\u001b[38;5;130;43;01m\\x1f\u001b[39;49;00m\u001b[38;5;124;43m.\u001b[39;49m\u001b[38;5;130;43;01m\\x1d\u001b[39;49;00m\u001b[38;5;130;43;01m\\xaf\u001b[39;49;00m\u001b[38;5;124;43m3\u001b[39;49m\u001b[38;5;130;43;01m\\\\\u001b[39;49;00m\u001b[38;5;130;43;01m\\xb2\u001b[39;49;00m\u001b[38;5;124;43mz-\u001b[39;49m\u001b[38;5;124;43m'\u001b[39;49m\u001b[43m)\u001b[49m\n",
      "Input \u001b[0;32mIn [2]\u001b[0m, in \u001b[0;36mdecrypt\u001b[0;34m(key, enc_data)\u001b[0m\n\u001b[1;32m     32\u001b[0m \u001b[38;5;28;01mdef\u001b[39;00m \u001b[38;5;21mdecrypt\u001b[39m(key,enc_data):\n\u001b[1;32m     33\u001b[0m     \u001b[38;5;124;03m'''\u001b[39;00m\n\u001b[1;32m     34\u001b[0m \u001b[38;5;124;03m    Params\u001b[39;00m\n\u001b[1;32m     35\u001b[0m \u001b[38;5;124;03m        key - Key for decryption of message\u001b[39;00m\n\u001b[1;32m     36\u001b[0m \u001b[38;5;124;03m        enc - Encrypted message\u001b[39;00m\n\u001b[1;32m     37\u001b[0m \u001b[38;5;124;03m    '''\u001b[39;00m\n\u001b[0;32m---> 38\u001b[0m     data \u001b[38;5;241m=\u001b[39m \u001b[43mCipher_PKCS1_v1_5\u001b[49m\u001b[38;5;241;43m.\u001b[39;49m\u001b[43mnew\u001b[49m\u001b[43m(\u001b[49m\u001b[43mkey\u001b[49m\u001b[43m)\u001b[49m\u001b[38;5;241;43m.\u001b[39;49m\u001b[43mdecrypt\u001b[49m\u001b[43m(\u001b[49m\u001b[43menc_data\u001b[49m\u001b[43m,\u001b[49m\u001b[38;5;28;43;01mNone\u001b[39;49;00m\u001b[43m)\u001b[49m\n\u001b[1;32m     39\u001b[0m     \u001b[38;5;28;01mreturn\u001b[39;00m data\n",
      "File \u001b[0;32m/usr/lib/python3.10/site-packages/Crypto/Cipher/PKCS1_v1_5.py:180\u001b[0m, in \u001b[0;36mPKCS115_Cipher.decrypt\u001b[0;34m(self, ciphertext, sentinel, expected_pt_len)\u001b[0m\n\u001b[1;32m    177\u001b[0m ct_int \u001b[38;5;241m=\u001b[39m bytes_to_long(ciphertext)\n\u001b[1;32m    179\u001b[0m \u001b[38;5;66;03m# Step 2b (RSADP)\u001b[39;00m\n\u001b[0;32m--> 180\u001b[0m m_int \u001b[38;5;241m=\u001b[39m \u001b[38;5;28;43mself\u001b[39;49m\u001b[38;5;241;43m.\u001b[39;49m\u001b[43m_key\u001b[49m\u001b[38;5;241;43m.\u001b[39;49m\u001b[43m_decrypt\u001b[49m\u001b[43m(\u001b[49m\u001b[43mct_int\u001b[49m\u001b[43m)\u001b[49m\n\u001b[1;32m    182\u001b[0m \u001b[38;5;66;03m# Complete step 2c (I2OSP)\u001b[39;00m\n\u001b[1;32m    183\u001b[0m em \u001b[38;5;241m=\u001b[39m long_to_bytes(m_int, k)\n",
      "File \u001b[0;32m/usr/lib/python3.10/site-packages/Crypto/PublicKey/RSA.py:156\u001b[0m, in \u001b[0;36mRsaKey._decrypt\u001b[0;34m(self, ciphertext)\u001b[0m\n\u001b[1;32m    154\u001b[0m     \u001b[38;5;28;01mraise\u001b[39;00m \u001b[38;5;167;01mValueError\u001b[39;00m(\u001b[38;5;124m\"\u001b[39m\u001b[38;5;124mCiphertext too large\u001b[39m\u001b[38;5;124m\"\u001b[39m)\n\u001b[1;32m    155\u001b[0m \u001b[38;5;28;01mif\u001b[39;00m \u001b[38;5;129;01mnot\u001b[39;00m \u001b[38;5;28mself\u001b[39m\u001b[38;5;241m.\u001b[39mhas_private():\n\u001b[0;32m--> 156\u001b[0m     \u001b[38;5;28;01mraise\u001b[39;00m \u001b[38;5;167;01mTypeError\u001b[39;00m(\u001b[38;5;124m\"\u001b[39m\u001b[38;5;124mThis is not a private key\u001b[39m\u001b[38;5;124m\"\u001b[39m)\n\u001b[1;32m    158\u001b[0m \u001b[38;5;66;03m# Blinded RSA decryption (to prevent timing attacks):\u001b[39;00m\n\u001b[1;32m    159\u001b[0m \u001b[38;5;66;03m# Step 1: Generate random secret blinding factor r,\u001b[39;00m\n\u001b[1;32m    160\u001b[0m \u001b[38;5;66;03m# such that 0 < r < n-1\u001b[39;00m\n\u001b[1;32m    161\u001b[0m r \u001b[38;5;241m=\u001b[39m Integer\u001b[38;5;241m.\u001b[39mrandom_range(min_inclusive\u001b[38;5;241m=\u001b[39m\u001b[38;5;241m1\u001b[39m, max_exclusive\u001b[38;5;241m=\u001b[39m\u001b[38;5;28mself\u001b[39m\u001b[38;5;241m.\u001b[39m_n)\n",
      "\u001b[0;31mTypeError\u001b[0m: This is not a private key"
     ]
    }
   ],
   "source": [
    "decrypt(testpriv,b'gH*X\\xbbT,\\xd1r2i5\\x88d\\xaf\\xb2\\xe5\\xed\\xfc\\tR\\x1e\\x83\\xf5\\xbf\\xd5v\"\\xa5\\x9bF\\xc8\\xf7l82G\\x8aU\\x84Q\\xc8\\x89\\x0f\\xc7\\rR\\x19\\x05\\n,Nxs\\x13\\xbe Z|\\xb8\\xcf\\xdb/2 \\xfe\\xdft\\xa3A\\x94\\xf8\\xee\\xad1)G\\xab\\x11\\xda\\x03UZ\\xdah\\xc8\\xc7\\xd3\\xc8{\\xc0B\\xda\\x8e\\xdd\\xcc\\xd2B\\xfe\\x8a\\xd9J\\x96Z\\xd6\\xdd\\xa5~\\xe6ie\\xf8\\x86\\x17\\x81\\x14}rc&\\xba\\xd0\\xe7\\x1d:\\x17h\\x92\\x1ds\\xcfx\\xeaP\\xd8\\x03\\xac)\\xaf\\x9a\\xd17\\xafb\\xf9\\xeeK\\xb6\\x05d\\xa1\\x98\\xe9\\x8d%O8\\xacFe\\x91r^\\xcf\\xb9 s\\x91\\x8f\\xa6\\xb0;\\xc2\\x1b\\xfb|8o@\\x9a[D&oa\\x8b)\\x91\\x8b\\x1a\\xect\\xe46\\x86\\xa0P\\x8bQ_\\x10\\xe6U\\xc5{Y\\xedx)\\xb2\\x9d6\\n\\x82>4\\xe8i\\xe6\\xbc8v\\x16\\xdaE\\x06(\\x86\\x0cR\\xc9\\x14\\xe1\\xc9}F\\x03x\\x06`\\t\\xde\\x88\\xd8^\\x8ay\\x1f.\\x1d\\xaf3\\\\\\xb2z-')"
   ]
  },
  {
   "cell_type": "code",
   "execution_count": null,
   "id": "4f76d9ee",
   "metadata": {},
   "outputs": [],
   "source": []
  },
  {
   "cell_type": "code",
   "execution_count": null,
   "id": "6c87494f",
   "metadata": {},
   "outputs": [],
   "source": [
    "def client_tester():\n",
    "    HOST = \"localhost\"\n",
    "    PORT = 9999\n",
    "    with socket.socket(socket.AF_INET, socket.SOCK_STREAM) as s:\n",
    "        s.connect((HOST, PORT))\n",
    "        keys = generate_RSA_key() # Priv,Pub\n",
    "        message = \"Hello MOON!\"\n",
    "        enc_message = encrypt(pub,message.encode())\n",
    "        signature = sign(keys[0],enc_message)\n",
    "        s.send(pickle.dumps([\"localhost\",enc_message,signature,keys[1].export_key()]))\n",
    "        s.close()"
   ]
  },
  {
   "cell_type": "code",
   "execution_count": null,
   "id": "e89166ff",
   "metadata": {},
   "outputs": [],
   "source": [
    "# client_tester()"
   ]
  },
  {
   "cell_type": "code",
   "execution_count": null,
   "id": "ceff207a",
   "metadata": {},
   "outputs": [],
   "source": [
    "db"
   ]
  },
  {
   "cell_type": "code",
   "execution_count": null,
   "id": "b75e0aab",
   "metadata": {},
   "outputs": [],
   "source": []
  }
 ],
 "metadata": {
  "kernelspec": {
   "display_name": "Python 3 (ipykernel)",
   "language": "python",
   "name": "python3"
  },
  "language_info": {
   "codemirror_mode": {
    "name": "ipython",
    "version": 3
   },
   "file_extension": ".py",
   "mimetype": "text/x-python",
   "name": "python",
   "nbconvert_exporter": "python",
   "pygments_lexer": "ipython3",
   "version": "3.10.2"
  }
 },
 "nbformat": 4,
 "nbformat_minor": 5
}
